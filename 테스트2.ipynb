{
 "cells": [
  {
   "cell_type": "markdown",
   "id": "38ba1f9c",
   "metadata": {},
   "source": [
    "# 202003215 컴퓨터공학부 정인서 "
   ]
  },
  {
   "cell_type": "markdown",
   "id": "2fd95463",
   "metadata": {},
   "source": [
    "#### 테스트-2\n",
    "##### 과일넣기"
   ]
  },
  {
   "cell_type": "code",
   "execution_count": 14,
   "id": "6885494f",
   "metadata": {},
   "outputs": [
    {
     "name": "stdout",
     "output_type": "stream",
     "text": [
      "head -> (apple) -> (banana) -> (cherry) -> tail\n"
     ]
    }
   ],
   "source": [
    "# DB 리스트 생성 및 데이터 추가\n",
    "DB = DoublyLinkedList()\n",
    "DB.append(\"apple\")\n",
    "DB.append(\"banana\")\n",
    "DB.append(\"cherry\")\n",
    "DB.append(\"durian\")\n",
    "\n",
    "# 첫번째 노드 확인\n",
    "DB.first() == \"apple\"\n",
    "\n",
    "# 다음 노드들 확인\n",
    "DB.next() == \"banana\"\n",
    "DB.next() == \"cherry\"\n",
    "DB.next() == \"durian\"\n",
    "\n",
    "# 더 이상 노드가 없는 경우 확인\n",
    "DB.next() == None\n",
    "\n",
    "# 리스트 크기 확인\n",
    "DB.size() == 4\n",
    "\n",
    "# 노드 삭제 후 남은 노드들 확인\n",
    "DB.delete()\n",
    "DB.next() == \"cherry\"\n",
    "DB.delete()\n",
    "DB.next() == \"banana\"\n",
    "DB.delete()\n",
    "DB.next() == \"apple\"\n",
    "DB.next() == None\n",
    "\n",
    "# 삭제 후 리스트 크기 확인\n",
    "DB.size() == 1\n",
    "\n",
    "# 모든 노드 삭제 후 리스트 크기 확인\n",
    "DB.delete()\n",
    "DB.size() == 0\n",
    "\n",
    "# 데이터가 없는 경우 첫번째 노드 확인\n",
    "DB.first() == None\n",
    "\n",
    "# traverse_all 메소드 테스트\n",
    "DB.append(\"apple\")\n",
    "DB.append(\"banana\")\n",
    "DB.append(\"cherry\")\n",
    "DB.traverse_all() "
   ]
  }
 ],
 "metadata": {
  "kernelspec": {
   "display_name": "Python 3 (ipykernel)",
   "language": "python",
   "name": "python3"
  },
  "language_info": {
   "codemirror_mode": {
    "name": "ipython",
    "version": 3
   },
   "file_extension": ".py",
   "mimetype": "text/x-python",
   "name": "python",
   "nbconvert_exporter": "python",
   "pygments_lexer": "ipython3",
   "version": "3.9.16"
  },
  "toc": {
   "base_numbering": 1,
   "nav_menu": {},
   "number_sections": true,
   "sideBar": true,
   "skip_h1_title": false,
   "title_cell": "Table of Contents",
   "title_sidebar": "Contents",
   "toc_cell": false,
   "toc_position": {
    "height": "calc(100% - 180px)",
    "left": "10px",
    "top": "150px",
    "width": "379.547px"
   },
   "toc_section_display": true,
   "toc_window_display": true
  }
 },
 "nbformat": 4,
 "nbformat_minor": 5
}
