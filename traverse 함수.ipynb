{
 "cells": [
  {
   "cell_type": "markdown",
   "id": "4d9bdbd5",
   "metadata": {},
   "source": [
    "# 202003125 정인서 컴퓨터공학부"
   ]
  },
  {
   "cell_type": "markdown",
   "id": "504cc617",
   "metadata": {},
   "source": [
    "#   • traverse_all()\n",
    "       – head부터 tail까지 각 노드를 순차적으로 탐색하며 각 노드의 data를 print한다.\n",
    "       – 출력 형식:  head -> (100) -> (72) -> (325) -> null\n",
    "    "
   ]
  },
  {
   "cell_type": "code",
   "execution_count": 1,
   "id": "cdca9676",
   "metadata": {},
   "outputs": [],
   "source": [
    "class Node:\n",
    "    def __init__(self, data):\n",
    "        self.data = data\n",
    "        self.next = None"
   ]
  },
  {
   "cell_type": "code",
   "execution_count": 2,
   "id": "0cc2dc28",
   "metadata": {},
   "outputs": [],
   "source": [
    "class LinkedList:\n",
    "    def __init__(self):\n",
    "        dummy = Node(\"dummy\")\n",
    "        self.head = dummy\n",
    "        self.tail = dummy\n",
    "        \n",
    "        self.current = None\n",
    "        self.before = None\n",
    "        \n",
    "        self.num_of_data = 0\n",
    "        \n",
    "# append 메소드 (insert - 맨 뒤에 노드 추가, tail과 node의 next, 데이터 개수 변경)\n",
    "    def append(self, data):\n",
    "        new_node = Node(data)\n",
    "        self.tail.next = new_node\n",
    "        self.tail = new_node\n",
    "        \n",
    "        self.num_of_data += 1\n",
    "\n",
    "\n",
    "# delete 메소드 (delete - current 노드 삭제, 인접 노드의 current, next 변경, 데이터 개수 변경)\n",
    "    def delete(self):\n",
    "        pop_data = self.current.data\n",
    "\n",
    "        if self.current is self.tail:\n",
    "            self.tail = self.before\n",
    "\n",
    "            # 중요 : current가 next가 아닌 before로 변경된다.\n",
    "            self.before.next = self.current.next\n",
    "            self.current = self.before \n",
    "\n",
    "            self.num_of_data -= 1\n",
    "\n",
    "            return pop_data\n",
    "    \n",
    "    # first 메소드 (search1 - 맨 앞의 노드 검색, before, current 변경)\n",
    "    def first(self):\n",
    "        # 데이터가 없는 경우 첫번째 노드도 없기 때문에 None 리턴\n",
    "        if self.num_of_data == 0: \n",
    "            return None\n",
    "\n",
    "        self.before = self.head\n",
    "        self.current = self.head.next\n",
    "\n",
    "        return self.current.data\n",
    "    \n",
    "    # next 메소드 (search2 - current 노드의 다음 노드 검색, 이전에 first 메소드가 한번은 실행되어야 함)\n",
    "    def next(self):\n",
    "        if self.current.next == None:\n",
    "            return None\n",
    "\n",
    "        self.before = self.current\n",
    "        self.current = self.current.next\n",
    "\n",
    "        return self.current.data\n",
    "    \n",
    "    # size 메소드\n",
    "    def size(self):\n",
    "        return self.num_of_data\n",
    "    \n",
    "    # traverse_all 메소드\n",
    "    def traverse_all(self):\n",
    "        # 첫 번째 노드부터 시작\n",
    "        node = self.head.next\n",
    "        \n",
    "        # 출력할 문자열 초기화\n",
    "        result = \"head -> \"\n",
    "        \n",
    "        # 모든 노드를 순회하며 데이터를 출력\n",
    "        while node is not None:\n",
    "            result += f\"({node.data}) -> \"\n",
    "            node = node.next\n",
    "        \n",
    "        # 마지막 노드 다음은 None 이므로 null로 출력\n",
    "        result += \"null\"\n",
    "        \n",
    "        print(result)"
   ]
  },
  {
   "cell_type": "code",
   "execution_count": null,
   "id": "cee26eec",
   "metadata": {},
   "outputs": [],
   "source": []
  }
 ],
 "metadata": {
  "kernelspec": {
   "display_name": "Python 3 (ipykernel)",
   "language": "python",
   "name": "python3"
  },
  "language_info": {
   "codemirror_mode": {
    "name": "ipython",
    "version": 3
   },
   "file_extension": ".py",
   "mimetype": "text/x-python",
   "name": "python",
   "nbconvert_exporter": "python",
   "pygments_lexer": "ipython3",
   "version": "3.9.16"
  },
  "toc": {
   "base_numbering": 1,
   "nav_menu": {},
   "number_sections": true,
   "sideBar": true,
   "skip_h1_title": false,
   "title_cell": "Table of Contents",
   "title_sidebar": "Contents",
   "toc_cell": false,
   "toc_position": {},
   "toc_section_display": true,
   "toc_window_display": false
  }
 },
 "nbformat": 4,
 "nbformat_minor": 5
}
