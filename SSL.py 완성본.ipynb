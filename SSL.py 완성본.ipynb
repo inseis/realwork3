{
 "cells": [
  {
   "cell_type": "markdown",
   "id": "38ba1f9c",
   "metadata": {},
   "source": [
    "# 202003215 컴퓨터공학부 정인서 "
   ]
  },
  {
   "cell_type": "markdown",
   "id": "1047f1b5",
   "metadata": {},
   "source": [
    "### 위 코드는 이중 연결 리스트를 구현하는 클래스 Node와 DoublyLinkedList를 정의한 코드입니다."
   ]
  },
  {
   "cell_type": "code",
   "execution_count": 6,
   "id": "1c52cc6d",
   "metadata": {},
   "outputs": [],
   "source": [
    "class Node:\n",
    "    def __init__(self, data):\n",
    "        self.data = data\n",
    "        self.next = None"
   ]
  },
  {
   "cell_type": "markdown",
   "id": "4e2cbf3e",
   "metadata": {},
   "source": [
    "#### Node는 이중연결리스트의 노드를 나타내며 data, prev, next 변수를 가집니다. data는 노드에 저장될 데이터, prev은 이전 노드의 위치, next는 다음 노드의 위치를 저장합니다."
   ]
  },
  {
   "cell_type": "code",
   "execution_count": null,
   "id": "de3e96a7",
   "metadata": {},
   "outputs": [],
   "source": [
    "class Node:\n",
    "    def __init__(self, data):\n",
    "        self.data = data\n",
    "        self.prev = None\n",
    "        self.next = None"
   ]
  },
  {
   "cell_type": "markdown",
   "id": "bf02fbbe",
   "metadata": {},
   "source": [
    "#### DoublyLinkedList는 이중 연결 리스트를 의미하며 head, tail, num_of_data, current, before 변수를 가집니다. head는 dummy node를 가르키며 tail은 마지막 노드의 위치를, num_of_data는 리스트의 길이를, current는 현재 노드의 위치를, before은 현재 노드 이전의 위치를 저장합니다."
   ]
  },
  {
   "cell_type": "code",
   "execution_count": null,
   "id": "0fbe2869",
   "metadata": {},
   "outputs": [],
   "source": [
    "class DoublyLinkedList:\n",
    "    def __init__(self):\n",
    "        self.head = Node(None)\n",
    "        self.tail = None\n",
    "        self.num_of_data = 0\n",
    "        self.current = self.head\n",
    "        self.before = None"
   ]
  },
  {
   "cell_type": "markdown",
   "id": "acbf7c20",
   "metadata": {},
   "source": [
    "#### append 메소드는 리스트의 마지막에 데이터를 추가하는 메소드입니다. 노드가 없는 경우에 head 다음에 노드를 추가하고, 노드가 있을 경우에는 tail 다음에 노드를 추가합니다."
   ]
  },
  {
   "cell_type": "code",
   "execution_count": null,
   "id": "e728a83e",
   "metadata": {},
   "outputs": [],
   "source": [
    "def append(self, data):\n",
    "        new_node = Node(data)\n",
    "        if self.tail is None:\n",
    "            # 데이터가 없는 경우\n",
    "            self.head.next = new_node\n",
    "            new_node.prev = self.head\n",
    "            self.tail = new_node\n",
    "        else:\n",
    "            self.tail.next = new_node\n",
    "            new_node.prev = self.tail\n",
    "            self.tail = new_node\n",
    "        self.num_of_data += 1"
   ]
  },
  {
   "cell_type": "markdown",
   "id": "2d80a028",
   "metadata": {},
   "source": [
    "#### delete 메소드는 current.data가 가르키는 노드를 삭제합니다. 삭제 후에 current 값을 이전 노드로 옮기고, 삭제한 노드의 데이터를 되돌립니다."
   ]
  },
  {
   "cell_type": "code",
   "execution_count": null,
   "id": "960a375b",
   "metadata": {},
   "outputs": [],
   "source": [
    "def delete(self):\n",
    "        pop_data = self.current.data\n",
    "        if self.current is self.tail:\n",
    "            # 삭제할 노드가 tail 노드인 경우\n",
    "            self.tail = self.current.prev\n",
    "            self.tail.next = None\n",
    "        else:\n",
    "            # 삭제할 노드가 tail 노드가 아닌 경우\n",
    "            self.current.prev.next = self.current.next\n",
    "            self.current.next.prev = self.current.prev\n",
    "        self.current = self.current.prev\n",
    "        self.num_of_data -= 1\n",
    "        return pop_data"
   ]
  },
  {
   "cell_type": "markdown",
   "id": "2a5cbbf5",
   "metadata": {},
   "source": [
    "#### first는 리스트의 첫번째 노드를 반환합니다. 리스트에 노드가 없을 경우에는 None으로 표현합니다."
   ]
  },
  {
   "cell_type": "code",
   "execution_count": null,
   "id": "eba51087",
   "metadata": {},
   "outputs": [],
   "source": [
    "def first(self):\n",
    "        # 데이터가 없는 경우 첫번째 노드도 없기 때문에 None 리턴\n",
    "        if self.num_of_data == 0: \n",
    "            return None\n",
    "        self.before = self.head\n",
    "        self.current = self.head.next\n",
    "        return self.current.data\n"
   ]
  },
  {
   "cell_type": "markdown",
   "id": "d28cbe4a",
   "metadata": {},
   "source": [
    "#### next는 current 다음에 있는 노드를 반환합니다. current가 tail노드일 경우에는 None으로 표현합니다."
   ]
  },
  {
   "cell_type": "code",
   "execution_count": null,
   "id": "8c238bd6",
   "metadata": {},
   "outputs": [],
   "source": [
    "def next(self):\n",
    "        if self.current.next is None:\n",
    "            # current가 tail 노드인 경우\n",
    "            return None\n",
    "        self.before = self.current\n",
    "        self.current = self.current.next\n",
    "        return self.current.data"
   ]
  },
  {
   "cell_type": "markdown",
   "id": "d5ef8097",
   "metadata": {},
   "source": [
    "#### size는 리스트의 길이를 반환하여 보여줍니다."
   ]
  },
  {
   "cell_type": "code",
   "execution_count": null,
   "id": "4bf15c86",
   "metadata": {},
   "outputs": [],
   "source": [
    "def size(self):\n",
    "        return self.num_of_data\n"
   ]
  },
  {
   "cell_type": "markdown",
   "id": "abd447dd",
   "metadata": {},
   "source": [
    "#### traverse_all은 리스트 안의 모든 노드를 출력합니다."
   ]
  },
  {
   "cell_type": "code",
   "execution_count": null,
   "id": "5acfb2d9",
   "metadata": {},
   "outputs": [],
   "source": [
    " def traverse_all(self):\n",
    "        node = self.head.next\n",
    "        print(\"head ->\", end=\" \")\n",
    "        while node is not None:\n",
    "            print(\"({}) ->\".format(node.data), end=\" \")\n",
    "            node = node.next\n",
    "        print(\"tail\")"
   ]
  },
  {
   "cell_type": "markdown",
   "id": "5353c477",
   "metadata": {},
   "source": [
    "#### remove는 주어진 key와 일치하는 노드를 삭제해줍니다."
   ]
  },
  {
   "cell_type": "code",
   "execution_count": null,
   "id": "85bb5760",
   "metadata": {},
   "outputs": [],
   "source": [
    " def remove(self, key):\n",
    "        node = self.head.next\n",
    "        removed = False\n",
    "        while node is not None:\n",
    "            if node.data == key:\n",
    "                if node == self.tail:\n",
    "                    # 삭제할 노드가 tail 노드인 경우\n",
    "                    self.tail = node.prev\n",
    "                    self.tail.next = None\n",
    "                else:\n",
    "                    # 삭제할 노드가 tail 노드가 아닌 경우\n",
    "                    node.prev.next = node.next\n",
    "                    node.next.prev = node.prev\n",
    "                self.num_of_data -= 1\n",
    "                removed = True\n",
    "            node = node.next\n",
    "        if removed:\n",
    "            print(\"* {}번째 원소(key)를 삭제합니다.\".format(key))\n",
    "        else:\n",
    "            print(\"* 해당하는 원소가 없습니다.\")\n",
    "    "
   ]
  },
  {
   "cell_type": "markdown",
   "id": "8c37ff12",
   "metadata": {},
   "source": [
    "#### insert_at 메소드는 주어진 위치에 새로운 데이터를 넣게 해줍니다. 리스트의 맨 끝에 데이터를 추가해주는 append와 다르게 insert_at는 원하는 위치에 데이터를 추가 할 수 있습니다. 추가할 위치가 리스트의 길이보다 더 클 경우 append를 호출하여 데이터를 추가합니다."
   ]
  },
  {
   "cell_type": "code",
   "execution_count": null,
   "id": "ac890327",
   "metadata": {},
   "outputs": [],
   "source": [
    "def insert_at(self, position, new_data):\n",
    "        if position <= 0:\n",
    "            print(\"error: 0보다 커야합니다.\")\n",
    "            return\n",
    "        elif position > self.num_of_data:\n",
    "            self.append(new_data)\n",
    "            return\n",
    "        \n",
    "        new_node = Node(new_data)\n",
    "        node = self.head.next\n",
    "        for i in range(position - 1):\n",
    "            node = node.next\n",
    "        new_node.next = node\n",
    "        new_node.prev = node.prev\n",
    "        node.prev.next = new_node\n",
    "        node.prev = new_node\n",
    "        self.num_of_data += 1"
   ]
  },
  {
   "cell_type": "markdown",
   "id": "8d1b09bd",
   "metadata": {},
   "source": [
    "## 완성본"
   ]
  },
  {
   "cell_type": "code",
   "execution_count": 7,
   "id": "05ecfb5a",
   "metadata": {},
   "outputs": [],
   "source": [
    "class Node:\n",
    "    def __init__(self, data):\n",
    "        self.data = data\n",
    "        self.prev = None\n",
    "        self.next = None\n",
    "\n",
    "class DoublyLinkedList:\n",
    "    def __init__(self):\n",
    "        self.head = Node(None)\n",
    "        self.tail = None\n",
    "        self.num_of_data = 0\n",
    "        self.current = self.head\n",
    "        self.before = None\n",
    "\n",
    "    def append(self, data):\n",
    "        new_node = Node(data)\n",
    "        if self.tail is None:\n",
    "            # 데이터가 없는 경우\n",
    "            self.head.next = new_node\n",
    "            new_node.prev = self.head\n",
    "            self.tail = new_node\n",
    "        else:\n",
    "            self.tail.next = new_node\n",
    "            new_node.prev = self.tail\n",
    "            self.tail = new_node\n",
    "        self.num_of_data += 1\n",
    "\n",
    "    def delete(self):\n",
    "        pop_data = self.current.data\n",
    "        if self.current is self.tail:\n",
    "            # 삭제할 노드가 tail 노드인 경우\n",
    "            self.tail = self.current.prev\n",
    "            self.tail.next = None\n",
    "        else:\n",
    "            # 삭제할 노드가 tail 노드가 아닌 경우\n",
    "            self.current.prev.next = self.current.next\n",
    "            self.current.next.prev = self.current.prev\n",
    "        self.current = self.current.prev\n",
    "        self.num_of_data -= 1\n",
    "        return pop_data\n",
    "\n",
    "    def first(self):\n",
    "        # 데이터가 없는 경우 첫번째 노드도 없기 때문에 None 리턴\n",
    "        if self.num_of_data == 0: \n",
    "            return None\n",
    "        self.before = self.head\n",
    "        self.current = self.head.next\n",
    "        return self.current.data\n",
    "\n",
    "    def next(self):\n",
    "        if self.current.next is None:\n",
    "            # current가 tail 노드인 경우\n",
    "            return None\n",
    "        self.before = self.current\n",
    "        self.current = self.current.next\n",
    "        return self.current.data\n",
    "\n",
    "    def size(self):\n",
    "        return self.num_of_data\n",
    "\n",
    "    def traverse_all(self):\n",
    "        node = self.head.next\n",
    "        print(\"head ->\", end=\" \")\n",
    "        while node is not None:\n",
    "            print(\"({}) ->\".format(node.data), end=\" \")\n",
    "            node = node.next\n",
    "        print(\"tail\")\n",
    "\n",
    "    def remove(self, key):\n",
    "        node = self.head.next\n",
    "        removed = False\n",
    "        while node is not None:\n",
    "            if node.data == key:\n",
    "                if node == self.tail:\n",
    "                    # 삭제할 노드가 tail 노드인 경우\n",
    "                    self.tail = node.prev\n",
    "                    self.tail.next = None\n",
    "                else:\n",
    "                    # 삭제할 노드가 tail 노드가 아닌 경우\n",
    "                    node.prev.next = node.next\n",
    "                    node.next.prev = node.prev\n",
    "                self.num_of_data -= 1\n",
    "                removed = True\n",
    "            node = node.next\n",
    "        if removed:\n",
    "            print(\"* {}번째 원소(key)를 삭제합니다.\".format(key))\n",
    "        else:\n",
    "            print(\"* 해당하는 원소가 없습니다.\")\n",
    "    \n",
    "    def insert_at(self, position, new_data):\n",
    "        if position <= 0:\n",
    "            print(\"error: 0보다 커야합니다.\")\n",
    "            return\n",
    "        elif position > self.num_of_data:\n",
    "            self.append(new_data)\n",
    "            return\n",
    "        \n",
    "        new_node = Node(new_data)\n",
    "        node = self.head.next\n",
    "        for i in range(position - 1):\n",
    "            node = node.next\n",
    "        new_node.next = node\n",
    "        new_node.prev = node.prev\n",
    "        node.prev.next = new_node\n",
    "        node.prev = new_node\n",
    "        self.num_of_data += 1"
   ]
  },
  {
   "cell_type": "markdown",
   "id": "498470ab",
   "metadata": {},
   "source": [
    "### 아래는 DoublyLinkedList 테스트하는 예시 코드입니다."
   ]
  },
  {
   "cell_type": "code",
   "execution_count": 10,
   "id": "e0990de2",
   "metadata": {},
   "outputs": [
    {
     "name": "stdout",
     "output_type": "stream",
     "text": [
      "head -> (1) -> (2) -> (3) -> tail\n",
      "1\n",
      "2\n",
      "3\n",
      "None\n",
      "head -> (1) -> (2) -> tail\n"
     ]
    }
   ],
   "source": [
    "# DoublyLinkedList 객체 생성\n",
    "DB = DoublyLinkedList()\n",
    "\n",
    "# append 메서드로 데이터 추가\n",
    "DB.append(1)\n",
    "DB.append(2)\n",
    "DB.append(3)\n",
    "\n",
    "# traverse_all 메서드로 전체 데이터 출력\n",
    "DB.traverse_all()  # head -> (1) -> (2) -> (3) -> tail\n",
    "\n",
    "# first 메서드로 첫번째 데이터 출력\n",
    "print(DB.first())  # 1\n",
    "\n",
    "# next 메서드로 다음 데이터 출력\n",
    "print(DB.next())   # 2\n",
    "print(DB.next())   # 3\n",
    "print(DB.next())   # None\n",
    "\n",
    "# delete 메서드로 데이터 삭제 후 traverse_all 메서드로 전체 데이터 출력\n",
    "DB.delete()\n",
    "DB.traverse_all()  # head -> (1) -> (2) -> tail\n"
   ]
  },
  {
   "cell_type": "markdown",
   "id": "2fd95463",
   "metadata": {},
   "source": [
    "#### 테스트-2\n",
    "##### 과일넣기"
   ]
  },
  {
   "cell_type": "code",
   "execution_count": 14,
   "id": "6885494f",
   "metadata": {},
   "outputs": [
    {
     "name": "stdout",
     "output_type": "stream",
     "text": [
      "head -> (apple) -> (banana) -> (cherry) -> tail\n"
     ]
    }
   ],
   "source": [
    "# DB 리스트 생성 및 데이터 추가\n",
    "DB = DoublyLinkedList()\n",
    "DB.append(\"apple\")\n",
    "DB.append(\"banana\")\n",
    "DB.append(\"cherry\")\n",
    "DB.append(\"durian\")\n",
    "\n",
    "# 첫번째 노드 확인\n",
    "DB.first() == \"apple\"\n",
    "\n",
    "# 다음 노드들 확인\n",
    "DB.next() == \"banana\"\n",
    "DB.next() == \"cherry\"\n",
    "DB.next() == \"durian\"\n",
    "\n",
    "# 더 이상 노드가 없는 경우 확인\n",
    "DB.next() == None\n",
    "\n",
    "# 리스트 크기 확인\n",
    "DB.size() == 4\n",
    "\n",
    "# 노드 삭제 후 남은 노드들 확인\n",
    "DB.delete()\n",
    "DB.next() == \"cherry\"\n",
    "DB.delete()\n",
    "DB.next() == \"banana\"\n",
    "DB.delete()\n",
    "DB.next() == \"apple\"\n",
    "DB.next() == None\n",
    "\n",
    "# 삭제 후 리스트 크기 확인\n",
    "DB.size() == 1\n",
    "\n",
    "# 모든 노드 삭제 후 리스트 크기 확인\n",
    "DB.delete()\n",
    "DB.size() == 0\n",
    "\n",
    "# 데이터가 없는 경우 첫번째 노드 확인\n",
    "DB.first() == None\n",
    "\n",
    "# traverse_all 메소드 테스트\n",
    "DB.append(\"apple\")\n",
    "DB.append(\"banana\")\n",
    "DB.append(\"cherry\")\n",
    "DB.traverse_all() "
   ]
  }
 ],
 "metadata": {
  "kernelspec": {
   "display_name": "Python 3 (ipykernel)",
   "language": "python",
   "name": "python3"
  },
  "language_info": {
   "codemirror_mode": {
    "name": "ipython",
    "version": 3
   },
   "file_extension": ".py",
   "mimetype": "text/x-python",
   "name": "python",
   "nbconvert_exporter": "python",
   "pygments_lexer": "ipython3",
   "version": "3.9.16"
  },
  "toc": {
   "base_numbering": 1,
   "nav_menu": {},
   "number_sections": true,
   "sideBar": true,
   "skip_h1_title": false,
   "title_cell": "Table of Contents",
   "title_sidebar": "Contents",
   "toc_cell": false,
   "toc_position": {
    "height": "calc(100% - 180px)",
    "left": "10px",
    "top": "150px",
    "width": "379.547px"
   },
   "toc_section_display": true,
   "toc_window_display": true
  }
 },
 "nbformat": 4,
 "nbformat_minor": 5
}
