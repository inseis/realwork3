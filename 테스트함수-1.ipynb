{
 "cells": [
  {
   "cell_type": "markdown",
   "id": "38ba1f9c",
   "metadata": {},
   "source": [
    "# 202003215 컴퓨터공학부 정인서 "
   ]
  },
  {
   "cell_type": "markdown",
   "id": "498470ab",
   "metadata": {},
   "source": [
    "### 아래는 DoublyLinkedList 테스트하는 예시 코드입니다."
   ]
  },
  {
   "cell_type": "code",
   "execution_count": 10,
   "id": "e0990de2",
   "metadata": {},
   "outputs": [
    {
     "name": "stdout",
     "output_type": "stream",
     "text": [
      "head -> (1) -> (2) -> (3) -> tail\n",
      "1\n",
      "2\n",
      "3\n",
      "None\n",
      "head -> (1) -> (2) -> tail\n"
     ]
    }
   ],
   "source": [
    "# DoublyLinkedList 객체 생성\n",
    "DB = DoublyLinkedList()\n",
    "\n",
    "# append 메서드로 데이터 추가\n",
    "DB.append(1)\n",
    "DB.append(2)\n",
    "DB.append(3)\n",
    "\n",
    "# traverse_all 메서드로 전체 데이터 출력\n",
    "DB.traverse_all()  # head -> (1) -> (2) -> (3) -> tail\n",
    "\n",
    "# first 메서드로 첫번째 데이터 출력\n",
    "print(DB.first())  # 1\n",
    "\n",
    "# next 메서드로 다음 데이터 출력\n",
    "print(DB.next())   # 2\n",
    "print(DB.next())   # 3\n",
    "print(DB.next())   # None\n",
    "\n",
    "# delete 메서드로 데이터 삭제 후 traverse_all 메서드로 전체 데이터 출력\n",
    "DB.delete()\n",
    "DB.traverse_all()  # head -> (1) -> (2) -> tail\n"
   ]
  }
 ],
 "metadata": {
  "kernelspec": {
   "display_name": "Python 3 (ipykernel)",
   "language": "python",
   "name": "python3"
  },
  "language_info": {
   "codemirror_mode": {
    "name": "ipython",
    "version": 3
   },
   "file_extension": ".py",
   "mimetype": "text/x-python",
   "name": "python",
   "nbconvert_exporter": "python",
   "pygments_lexer": "ipython3",
   "version": "3.9.16"
  },
  "toc": {
   "base_numbering": 1,
   "nav_menu": {},
   "number_sections": true,
   "sideBar": true,
   "skip_h1_title": false,
   "title_cell": "Table of Contents",
   "title_sidebar": "Contents",
   "toc_cell": false,
   "toc_position": {
    "height": "calc(100% - 180px)",
    "left": "10px",
    "top": "150px",
    "width": "379.547px"
   },
   "toc_section_display": true,
   "toc_window_display": true
  }
 },
 "nbformat": 4,
 "nbformat_minor": 5
}
